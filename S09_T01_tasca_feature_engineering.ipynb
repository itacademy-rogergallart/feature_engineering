{
  "nbformat": 4,
  "nbformat_minor": 0,
  "metadata": {
    "colab": {
      "name": "S09_T01_tasca_feature_engineering.ipynb",
      "provenance": [],
      "toc_visible": true,
      "mount_file_id": "1mQdfIA7BUoTit6zlhpk5j2HjMJDshmQX",
      "authorship_tag": "ABX9TyPe9oRodWunnxgudnPZT75C"
    },
    "kernelspec": {
      "name": "python3",
      "display_name": "Python 3"
    },
    "language_info": {
      "name": "python"
    }
  },
  "cells": [
    {
      "cell_type": "markdown",
      "metadata": {
        "id": "_OecQQ_QVTgG"
      },
      "source": [
        "# Tasca Feature Engineering\n",
        "\n",
        "Roger Gallart - 29 maig 2021"
      ]
    },
    {
      "cell_type": "markdown",
      "metadata": {
        "id": "bsUf5IarJJIq"
      },
      "source": [
        "## Preprocessament del dataset"
      ]
    },
    {
      "cell_type": "markdown",
      "metadata": {
        "id": "4yj0TGwXE45Y"
      },
      "source": [
        "Utilitzarem aquest dataset de Kaggle que inclou els atlètes i resultats durant 120 anys de jocs olímpics\n",
        "\n",
        "https://www.kaggle.com/heesoo37/120-years-of-olympic-history-athletes-and-results"
      ]
    },
    {
      "cell_type": "markdown",
      "metadata": {
        "id": "WPN-sf0OV3g6"
      },
      "source": [
        "Atributs:\n",
        "\n",
        "- ID - Unique number for each athlete\n",
        "- Name - Athlete's name\n",
        "- Sex - M or F\n",
        "- Age - Integer\n",
        "- Height - In centimeters\n",
        "- Weight - In kilograms\n",
        "- Team - Team name\n",
        "- NOC - National Olympic Committee 3-letter code\n",
        "- Games - Year and season\n",
        "- Year - Integer\n",
        "- Season - Summer or Winter\n",
        "- City - Host city\n",
        "- Event - Event\n",
        "- Sport - Sport\n",
        "- SportCategory - Category type for that Sport\n",
        "- SportGenre - M/F/Mixed\n",
        "- Medal - Gold, Silver, Bronze, or NA"
      ]
    },
    {
      "cell_type": "code",
      "metadata": {
        "id": "a9GuJDlol6l0"
      },
      "source": [
        "# Imports\n",
        "import pandas as pd\n",
        "import numpy as np\n",
        "import matplotlib.pyplot as plt\n",
        "import seaborn as sns\n",
        "%matplotlib inline\n",
        "\n",
        "from sklearn.preprocessing import OneHotEncoder, StandardScaler, RobustScaler, PowerTransformer\n",
        "from sklearn.impute import SimpleImputer\n",
        "from sklearn.pipeline import Pipeline\n",
        "from sklearn.compose import ColumnTransformer\n",
        "from sklearn.decomposition import PCA"
      ],
      "execution_count": 1,
      "outputs": []
    },
    {
      "cell_type": "code",
      "metadata": {
        "id": "NMxa9Z8u4e7_"
      },
      "source": [
        "# Tipus categòric ordenat (ordinal) per les medalles\n",
        "medal_type = pd.CategoricalDtype(categories=[\"None\", \"Bronze\", \"Silver\", \"Gold\"], ordered=True)\n",
        "\n",
        "# Importació del dataset (ja l'haviem pre-processat en una tasca anterior)\n",
        "df = pd.read_csv('/content/drive/MyDrive/ITAcademy/datasets/120-years-olympic-results_clean.csv', \n",
        "                 index_col='ID',\n",
        "                 dtype={'Medal':medal_type,\n",
        "                        'Sex': 'category',\n",
        "                        'Season': 'category'})"
      ],
      "execution_count": 2,
      "outputs": []
    },
    {
      "cell_type": "code",
      "metadata": {
        "colab": {
          "base_uri": "https://localhost:8080/",
          "height": 416
        },
        "id": "lkMIX5LxVJaG",
        "outputId": "633bea25-597b-4fb3-e89e-337c65137fe7"
      },
      "source": [
        "df.sample(7)"
      ],
      "execution_count": 3,
      "outputs": [
        {
          "output_type": "execute_result",
          "data": {
            "text/html": [
              "<div>\n",
              "<style scoped>\n",
              "    .dataframe tbody tr th:only-of-type {\n",
              "        vertical-align: middle;\n",
              "    }\n",
              "\n",
              "    .dataframe tbody tr th {\n",
              "        vertical-align: top;\n",
              "    }\n",
              "\n",
              "    .dataframe thead th {\n",
              "        text-align: right;\n",
              "    }\n",
              "</style>\n",
              "<table border=\"1\" class=\"dataframe\">\n",
              "  <thead>\n",
              "    <tr style=\"text-align: right;\">\n",
              "      <th></th>\n",
              "      <th>Name</th>\n",
              "      <th>Sex</th>\n",
              "      <th>Age</th>\n",
              "      <th>Height</th>\n",
              "      <th>Weight</th>\n",
              "      <th>Team</th>\n",
              "      <th>NOC</th>\n",
              "      <th>Games</th>\n",
              "      <th>Year</th>\n",
              "      <th>Season</th>\n",
              "      <th>City</th>\n",
              "      <th>Event</th>\n",
              "      <th>Sport</th>\n",
              "      <th>SportCategory</th>\n",
              "      <th>SportGenre</th>\n",
              "      <th>Medal</th>\n",
              "    </tr>\n",
              "    <tr>\n",
              "      <th>ID</th>\n",
              "      <th></th>\n",
              "      <th></th>\n",
              "      <th></th>\n",
              "      <th></th>\n",
              "      <th></th>\n",
              "      <th></th>\n",
              "      <th></th>\n",
              "      <th></th>\n",
              "      <th></th>\n",
              "      <th></th>\n",
              "      <th></th>\n",
              "      <th></th>\n",
              "      <th></th>\n",
              "      <th></th>\n",
              "      <th></th>\n",
              "      <th></th>\n",
              "    </tr>\n",
              "  </thead>\n",
              "  <tbody>\n",
              "    <tr>\n",
              "      <th>115824</th>\n",
              "      <td>Anders Strm</td>\n",
              "      <td>M</td>\n",
              "      <td>26.0</td>\n",
              "      <td>NaN</td>\n",
              "      <td>NaN</td>\n",
              "      <td>Sweden</td>\n",
              "      <td>SWE</td>\n",
              "      <td>1928 Winter</td>\n",
              "      <td>1928</td>\n",
              "      <td>Winter</td>\n",
              "      <td>Sankt Moritz</td>\n",
              "      <td>Cross Country Skiing Men's 50 kilometres</td>\n",
              "      <td>Cross Country Skiing</td>\n",
              "      <td>50 kilometres</td>\n",
              "      <td>M</td>\n",
              "      <td>None</td>\n",
              "    </tr>\n",
              "    <tr>\n",
              "      <th>38632</th>\n",
              "      <td>Luis Rigiberto Garca Jimnez</td>\n",
              "      <td>M</td>\n",
              "      <td>26.0</td>\n",
              "      <td>169.0</td>\n",
              "      <td>67.0</td>\n",
              "      <td>Venezuela</td>\n",
              "      <td>VEN</td>\n",
              "      <td>1960 Summer</td>\n",
              "      <td>1960</td>\n",
              "      <td>Summer</td>\n",
              "      <td>Roma</td>\n",
              "      <td>Fencing Men's Foil, Individual</td>\n",
              "      <td>Fencing</td>\n",
              "      <td>Foil, Individual</td>\n",
              "      <td>M</td>\n",
              "      <td>None</td>\n",
              "    </tr>\n",
              "    <tr>\n",
              "      <th>24771</th>\n",
              "      <td>Gabriela \"Gaby\" Dabrowski</td>\n",
              "      <td>F</td>\n",
              "      <td>24.0</td>\n",
              "      <td>175.0</td>\n",
              "      <td>84.0</td>\n",
              "      <td>Canada</td>\n",
              "      <td>CAN</td>\n",
              "      <td>2016 Summer</td>\n",
              "      <td>2016</td>\n",
              "      <td>Summer</td>\n",
              "      <td>Rio de Janeiro</td>\n",
              "      <td>Tennis Women's Doubles</td>\n",
              "      <td>Tennis</td>\n",
              "      <td>Doubles</td>\n",
              "      <td>F</td>\n",
              "      <td>None</td>\n",
              "    </tr>\n",
              "    <tr>\n",
              "      <th>28059</th>\n",
              "      <td>Marco di Carli</td>\n",
              "      <td>M</td>\n",
              "      <td>19.0</td>\n",
              "      <td>189.0</td>\n",
              "      <td>78.0</td>\n",
              "      <td>Germany</td>\n",
              "      <td>GER</td>\n",
              "      <td>2004 Summer</td>\n",
              "      <td>2004</td>\n",
              "      <td>Summer</td>\n",
              "      <td>Athina</td>\n",
              "      <td>Swimming Men's 100 metres Backstroke</td>\n",
              "      <td>Swimming</td>\n",
              "      <td>100 metres Backstroke</td>\n",
              "      <td>M</td>\n",
              "      <td>None</td>\n",
              "    </tr>\n",
              "    <tr>\n",
              "      <th>37000</th>\n",
              "      <td>Bertus Johannes Freese</td>\n",
              "      <td>M</td>\n",
              "      <td>26.0</td>\n",
              "      <td>NaN</td>\n",
              "      <td>NaN</td>\n",
              "      <td>Netherlands</td>\n",
              "      <td>NED</td>\n",
              "      <td>1928 Summer</td>\n",
              "      <td>1928</td>\n",
              "      <td>Summer</td>\n",
              "      <td>Amsterdam</td>\n",
              "      <td>Football Men's Football</td>\n",
              "      <td>Football</td>\n",
              "      <td>-</td>\n",
              "      <td>M</td>\n",
              "      <td>None</td>\n",
              "    </tr>\n",
              "    <tr>\n",
              "      <th>91031</th>\n",
              "      <td>Francesco Panetta</td>\n",
              "      <td>M</td>\n",
              "      <td>21.0</td>\n",
              "      <td>175.0</td>\n",
              "      <td>64.0</td>\n",
              "      <td>Italy</td>\n",
              "      <td>ITA</td>\n",
              "      <td>1984 Summer</td>\n",
              "      <td>1984</td>\n",
              "      <td>Summer</td>\n",
              "      <td>Los Angeles</td>\n",
              "      <td>Athletics Men's 10,000 metres</td>\n",
              "      <td>Athletics</td>\n",
              "      <td>10,000 metres</td>\n",
              "      <td>M</td>\n",
              "      <td>None</td>\n",
              "    </tr>\n",
              "    <tr>\n",
              "      <th>102022</th>\n",
              "      <td>Peter Rhle</td>\n",
              "      <td>M</td>\n",
              "      <td>27.0</td>\n",
              "      <td>193.0</td>\n",
              "      <td>90.0</td>\n",
              "      <td>West Germany</td>\n",
              "      <td>FRG</td>\n",
              "      <td>1984 Summer</td>\n",
              "      <td>1984</td>\n",
              "      <td>Summer</td>\n",
              "      <td>Los Angeles</td>\n",
              "      <td>Water Polo Men's Water Polo</td>\n",
              "      <td>Water Polo</td>\n",
              "      <td>-</td>\n",
              "      <td>M</td>\n",
              "      <td>Bronze</td>\n",
              "    </tr>\n",
              "  </tbody>\n",
              "</table>\n",
              "</div>"
            ],
            "text/plain": [
              "                               Name Sex  ...  SportGenre   Medal\n",
              "ID                                       ...                    \n",
              "115824                  Anders Strm   M  ...           M    None\n",
              "38632   Luis Rigiberto Garca Jimnez   M  ...           M    None\n",
              "24771     Gabriela \"Gaby\" Dabrowski   F  ...           F    None\n",
              "28059                Marco di Carli   M  ...           M    None\n",
              "37000        Bertus Johannes Freese   M  ...           M    None\n",
              "91031             Francesco Panetta   M  ...           M    None\n",
              "102022                   Peter Rhle   M  ...           M  Bronze\n",
              "\n",
              "[7 rows x 16 columns]"
            ]
          },
          "metadata": {
            "tags": []
          },
          "execution_count": 3
        }
      ]
    },
    {
      "cell_type": "markdown",
      "metadata": {
        "id": "IS3UD4wqZhrx"
      },
      "source": [
        "Imaginem que volguessim crear un model de ML per predir si un atleta guanyarà medalla d'or, argent o bronze o cap medalla en unes futures olimpiades donades les seves característiques físiques (Sex, Age, Height, Weight), el seu país (NOC) i el tipus d'esport en el que competeix (Sport)."
      ]
    },
    {
      "cell_type": "code",
      "metadata": {
        "id": "y3BzTT_N3pAx"
      },
      "source": [
        "# Creem un dataset amb els atributs que ens interessen\n",
        "df_raw = df[['Age','Sex','Height','Weight','NOC', 'Sport', 'Medal']].copy()"
      ],
      "execution_count": 4,
      "outputs": []
    },
    {
      "cell_type": "code",
      "metadata": {
        "colab": {
          "base_uri": "https://localhost:8080/"
        },
        "id": "3Pg21VuK4eWw",
        "outputId": "b1656480-7a0c-49a3-eaf9-c6fa7ea53dba"
      },
      "source": [
        "# Mirem missing values\n",
        "df_raw.isna().sum()"
      ],
      "execution_count": 5,
      "outputs": [
        {
          "output_type": "execute_result",
          "data": {
            "text/plain": [
              "Age        9474\n",
              "Sex           0\n",
              "Height    60171\n",
              "Weight    62875\n",
              "NOC           0\n",
              "Sport         0\n",
              "Medal         0\n",
              "dtype: int64"
            ]
          },
          "metadata": {
            "tags": []
          },
          "execution_count": 5
        }
      ]
    },
    {
      "cell_type": "markdown",
      "metadata": {
        "id": "YOqm9XwDVTc0"
      },
      "source": [
        "## Exercici 1\n",
        "Agafa un conjunt de dades de tema esportiu que t'agradi i normalitza els atributs categòrics en dummy. Normalitza els atributs numèrics amb StandardScaler."
      ]
    },
    {
      "cell_type": "markdown",
      "metadata": {
        "id": "bODbuU-6CR4_"
      },
      "source": [
        "Per fer-ho de la manera més general i escalable possible, posarem les transformacions en Pipelines, com si fos un projecte real."
      ]
    },
    {
      "cell_type": "code",
      "metadata": {
        "colab": {
          "base_uri": "https://localhost:8080/"
        },
        "id": "a6LZLgPY15q2",
        "outputId": "943b5094-5aa2-49c8-d7e0-afe9df5be8b8"
      },
      "source": [
        "# Columna Target\n",
        "targ_column = ['Medal']\n",
        "print(f'The target column is: {targ_column}')\n",
        "\n",
        "# Columnes Numèriques\n",
        "num_columns = list(df_raw.select_dtypes('number').columns)\n",
        "print(f\"Numerical columns are: {num_columns}\")\n",
        "\n",
        "# Columnes Categòriques (= les que no són numèriques i que no són el target)\n",
        "cat_columns = list(set(df_raw.columns) - set(num_columns) - set(targ_column))\n",
        "print(f\"Categorical columns are: {cat_columns}\")\n"
      ],
      "execution_count": 6,
      "outputs": [
        {
          "output_type": "stream",
          "text": [
            "The target column is: ['Medal']\n",
            "Numerical columns are: ['Age', 'Height', 'Weight']\n",
            "Categorical columns are: ['Sport', 'NOC', 'Sex']\n"
          ],
          "name": "stdout"
        }
      ]
    },
    {
      "cell_type": "code",
      "metadata": {
        "id": "JC8SKbfX4FDM"
      },
      "source": [
        "# Pipeline per atributs numèrics:\n",
        "#   - Substituim els NaN per la mediana\n",
        "#   - Estandaritzem utilitzant StandardScaler()\n",
        "\n",
        "num_pipe = Pipeline([('imputer', SimpleImputer(strategy='median')),\n",
        "                     ('scaler', StandardScaler())])\n",
        "\n",
        "# Pipeline per atributs categòrics\n",
        "#   - Codifiquem variables categòriques utilitzant OneHotEncoding\n",
        "cat_pipe = Pipeline([('ohe', OneHotEncoder(sparse=False))])\n",
        "\n",
        "\n",
        "# Combinem els dos pipelines\n",
        "preprocessor = ColumnTransformer(transformers=[('num_transf', num_pipe, num_columns),\n",
        "                                               ('cat_transf', cat_pipe, cat_columns),\n",
        "                                               ])\n",
        "\n",
        "X = preprocessor.fit_transform(df_raw);"
      ],
      "execution_count": 7,
      "outputs": []
    },
    {
      "cell_type": "code",
      "metadata": {
        "id": "DLmvZWm_-wOT"
      },
      "source": [
        "# Guardem el nom de les noves columnes\n",
        "cat_columns_new = preprocessor.named_transformers_['cat_transf']['ohe'].get_feature_names(cat_columns).tolist()\n",
        "columns = num_columns + cat_columns_new"
      ],
      "execution_count": 8,
      "outputs": []
    },
    {
      "cell_type": "code",
      "metadata": {
        "colab": {
          "base_uri": "https://localhost:8080/",
          "height": 287
        },
        "id": "VSg-PP6W_qqr",
        "outputId": "936390fe-7218-4843-ba02-65442b2d819b"
      },
      "source": [
        "df_X = pd.DataFrame(X, columns=columns)\n",
        "df_X.head()"
      ],
      "execution_count": 9,
      "outputs": [
        {
          "output_type": "execute_result",
          "data": {
            "text/html": [
              "<div>\n",
              "<style scoped>\n",
              "    .dataframe tbody tr th:only-of-type {\n",
              "        vertical-align: middle;\n",
              "    }\n",
              "\n",
              "    .dataframe tbody tr th {\n",
              "        vertical-align: top;\n",
              "    }\n",
              "\n",
              "    .dataframe thead th {\n",
              "        text-align: right;\n",
              "    }\n",
              "</style>\n",
              "<table border=\"1\" class=\"dataframe\">\n",
              "  <thead>\n",
              "    <tr style=\"text-align: right;\">\n",
              "      <th></th>\n",
              "      <th>Age</th>\n",
              "      <th>Height</th>\n",
              "      <th>Weight</th>\n",
              "      <th>Sport_Aeronautics</th>\n",
              "      <th>Sport_Alpine Skiing</th>\n",
              "      <th>Sport_Alpinism</th>\n",
              "      <th>Sport_Archery</th>\n",
              "      <th>Sport_Art Competitions</th>\n",
              "      <th>Sport_Athletics</th>\n",
              "      <th>Sport_Badminton</th>\n",
              "      <th>Sport_Baseball</th>\n",
              "      <th>Sport_Basketball</th>\n",
              "      <th>Sport_Basque Pelota</th>\n",
              "      <th>Sport_Beach Volleyball</th>\n",
              "      <th>Sport_Biathlon</th>\n",
              "      <th>Sport_Bobsleigh</th>\n",
              "      <th>Sport_Boxing</th>\n",
              "      <th>Sport_Canoeing</th>\n",
              "      <th>Sport_Cricket</th>\n",
              "      <th>Sport_Croquet</th>\n",
              "      <th>Sport_Cross Country Skiing</th>\n",
              "      <th>Sport_Curling</th>\n",
              "      <th>Sport_Cycling</th>\n",
              "      <th>Sport_Diving</th>\n",
              "      <th>Sport_Equestrianism</th>\n",
              "      <th>Sport_Fencing</th>\n",
              "      <th>Sport_Figure Skating</th>\n",
              "      <th>Sport_Football</th>\n",
              "      <th>Sport_Freestyle Skiing</th>\n",
              "      <th>Sport_Golf</th>\n",
              "      <th>Sport_Gymnastics</th>\n",
              "      <th>Sport_Handball</th>\n",
              "      <th>Sport_Hockey</th>\n",
              "      <th>Sport_Ice Hockey</th>\n",
              "      <th>Sport_Jeu De Paume</th>\n",
              "      <th>Sport_Judo</th>\n",
              "      <th>Sport_Lacrosse</th>\n",
              "      <th>Sport_Luge</th>\n",
              "      <th>Sport_Military Ski Patrol</th>\n",
              "      <th>Sport_Modern Pentathlon</th>\n",
              "      <th>...</th>\n",
              "      <th>NOC_SVK</th>\n",
              "      <th>NOC_SWE</th>\n",
              "      <th>NOC_SWZ</th>\n",
              "      <th>NOC_SYR</th>\n",
              "      <th>NOC_TAN</th>\n",
              "      <th>NOC_TCH</th>\n",
              "      <th>NOC_TGA</th>\n",
              "      <th>NOC_THA</th>\n",
              "      <th>NOC_TJK</th>\n",
              "      <th>NOC_TKM</th>\n",
              "      <th>NOC_TLS</th>\n",
              "      <th>NOC_TOG</th>\n",
              "      <th>NOC_TPE</th>\n",
              "      <th>NOC_TTO</th>\n",
              "      <th>NOC_TUN</th>\n",
              "      <th>NOC_TUR</th>\n",
              "      <th>NOC_TUV</th>\n",
              "      <th>NOC_UAE</th>\n",
              "      <th>NOC_UAR</th>\n",
              "      <th>NOC_UGA</th>\n",
              "      <th>NOC_UKR</th>\n",
              "      <th>NOC_UNK</th>\n",
              "      <th>NOC_URS</th>\n",
              "      <th>NOC_URU</th>\n",
              "      <th>NOC_USA</th>\n",
              "      <th>NOC_UZB</th>\n",
              "      <th>NOC_VAN</th>\n",
              "      <th>NOC_VEN</th>\n",
              "      <th>NOC_VIE</th>\n",
              "      <th>NOC_VIN</th>\n",
              "      <th>NOC_VNM</th>\n",
              "      <th>NOC_WIF</th>\n",
              "      <th>NOC_YAR</th>\n",
              "      <th>NOC_YEM</th>\n",
              "      <th>NOC_YMD</th>\n",
              "      <th>NOC_YUG</th>\n",
              "      <th>NOC_ZAM</th>\n",
              "      <th>NOC_ZIM</th>\n",
              "      <th>Sex_F</th>\n",
              "      <th>Sex_M</th>\n",
              "    </tr>\n",
              "  </thead>\n",
              "  <tbody>\n",
              "    <tr>\n",
              "      <th>0</th>\n",
              "      <td>-0.238971</td>\n",
              "      <td>0.510420</td>\n",
              "      <td>0.752137</td>\n",
              "      <td>0.0</td>\n",
              "      <td>0.0</td>\n",
              "      <td>0.0</td>\n",
              "      <td>0.0</td>\n",
              "      <td>0.0</td>\n",
              "      <td>0.0</td>\n",
              "      <td>0.0</td>\n",
              "      <td>0.0</td>\n",
              "      <td>1.0</td>\n",
              "      <td>0.0</td>\n",
              "      <td>0.0</td>\n",
              "      <td>0.0</td>\n",
              "      <td>0.0</td>\n",
              "      <td>0.0</td>\n",
              "      <td>0.0</td>\n",
              "      <td>0.0</td>\n",
              "      <td>0.0</td>\n",
              "      <td>0.0</td>\n",
              "      <td>0.0</td>\n",
              "      <td>0.0</td>\n",
              "      <td>0.0</td>\n",
              "      <td>0.0</td>\n",
              "      <td>0.0</td>\n",
              "      <td>0.0</td>\n",
              "      <td>0.0</td>\n",
              "      <td>0.0</td>\n",
              "      <td>0.0</td>\n",
              "      <td>0.0</td>\n",
              "      <td>0.0</td>\n",
              "      <td>0.0</td>\n",
              "      <td>0.0</td>\n",
              "      <td>0.0</td>\n",
              "      <td>0.0</td>\n",
              "      <td>0.0</td>\n",
              "      <td>0.0</td>\n",
              "      <td>0.0</td>\n",
              "      <td>0.0</td>\n",
              "      <td>...</td>\n",
              "      <td>0.0</td>\n",
              "      <td>0.0</td>\n",
              "      <td>0.0</td>\n",
              "      <td>0.0</td>\n",
              "      <td>0.0</td>\n",
              "      <td>0.0</td>\n",
              "      <td>0.0</td>\n",
              "      <td>0.0</td>\n",
              "      <td>0.0</td>\n",
              "      <td>0.0</td>\n",
              "      <td>0.0</td>\n",
              "      <td>0.0</td>\n",
              "      <td>0.0</td>\n",
              "      <td>0.0</td>\n",
              "      <td>0.0</td>\n",
              "      <td>0.0</td>\n",
              "      <td>0.0</td>\n",
              "      <td>0.0</td>\n",
              "      <td>0.0</td>\n",
              "      <td>0.0</td>\n",
              "      <td>0.0</td>\n",
              "      <td>0.0</td>\n",
              "      <td>0.0</td>\n",
              "      <td>0.0</td>\n",
              "      <td>0.0</td>\n",
              "      <td>0.0</td>\n",
              "      <td>0.0</td>\n",
              "      <td>0.0</td>\n",
              "      <td>0.0</td>\n",
              "      <td>0.0</td>\n",
              "      <td>0.0</td>\n",
              "      <td>0.0</td>\n",
              "      <td>0.0</td>\n",
              "      <td>0.0</td>\n",
              "      <td>0.0</td>\n",
              "      <td>0.0</td>\n",
              "      <td>0.0</td>\n",
              "      <td>0.0</td>\n",
              "      <td>0.0</td>\n",
              "      <td>1.0</td>\n",
              "    </tr>\n",
              "    <tr>\n",
              "      <th>1</th>\n",
              "      <td>-0.398020</td>\n",
              "      <td>-0.567265</td>\n",
              "      <td>-0.837921</td>\n",
              "      <td>0.0</td>\n",
              "      <td>0.0</td>\n",
              "      <td>0.0</td>\n",
              "      <td>0.0</td>\n",
              "      <td>0.0</td>\n",
              "      <td>0.0</td>\n",
              "      <td>0.0</td>\n",
              "      <td>0.0</td>\n",
              "      <td>0.0</td>\n",
              "      <td>0.0</td>\n",
              "      <td>0.0</td>\n",
              "      <td>0.0</td>\n",
              "      <td>0.0</td>\n",
              "      <td>0.0</td>\n",
              "      <td>0.0</td>\n",
              "      <td>0.0</td>\n",
              "      <td>0.0</td>\n",
              "      <td>0.0</td>\n",
              "      <td>0.0</td>\n",
              "      <td>0.0</td>\n",
              "      <td>0.0</td>\n",
              "      <td>0.0</td>\n",
              "      <td>0.0</td>\n",
              "      <td>0.0</td>\n",
              "      <td>0.0</td>\n",
              "      <td>0.0</td>\n",
              "      <td>0.0</td>\n",
              "      <td>0.0</td>\n",
              "      <td>0.0</td>\n",
              "      <td>0.0</td>\n",
              "      <td>0.0</td>\n",
              "      <td>0.0</td>\n",
              "      <td>1.0</td>\n",
              "      <td>0.0</td>\n",
              "      <td>0.0</td>\n",
              "      <td>0.0</td>\n",
              "      <td>0.0</td>\n",
              "      <td>...</td>\n",
              "      <td>0.0</td>\n",
              "      <td>0.0</td>\n",
              "      <td>0.0</td>\n",
              "      <td>0.0</td>\n",
              "      <td>0.0</td>\n",
              "      <td>0.0</td>\n",
              "      <td>0.0</td>\n",
              "      <td>0.0</td>\n",
              "      <td>0.0</td>\n",
              "      <td>0.0</td>\n",
              "      <td>0.0</td>\n",
              "      <td>0.0</td>\n",
              "      <td>0.0</td>\n",
              "      <td>0.0</td>\n",
              "      <td>0.0</td>\n",
              "      <td>0.0</td>\n",
              "      <td>0.0</td>\n",
              "      <td>0.0</td>\n",
              "      <td>0.0</td>\n",
              "      <td>0.0</td>\n",
              "      <td>0.0</td>\n",
              "      <td>0.0</td>\n",
              "      <td>0.0</td>\n",
              "      <td>0.0</td>\n",
              "      <td>0.0</td>\n",
              "      <td>0.0</td>\n",
              "      <td>0.0</td>\n",
              "      <td>0.0</td>\n",
              "      <td>0.0</td>\n",
              "      <td>0.0</td>\n",
              "      <td>0.0</td>\n",
              "      <td>0.0</td>\n",
              "      <td>0.0</td>\n",
              "      <td>0.0</td>\n",
              "      <td>0.0</td>\n",
              "      <td>0.0</td>\n",
              "      <td>0.0</td>\n",
              "      <td>0.0</td>\n",
              "      <td>0.0</td>\n",
              "      <td>1.0</td>\n",
              "    </tr>\n",
              "    <tr>\n",
              "      <th>2</th>\n",
              "      <td>-0.238971</td>\n",
              "      <td>-0.028423</td>\n",
              "      <td>-0.042892</td>\n",
              "      <td>0.0</td>\n",
              "      <td>0.0</td>\n",
              "      <td>0.0</td>\n",
              "      <td>0.0</td>\n",
              "      <td>0.0</td>\n",
              "      <td>0.0</td>\n",
              "      <td>0.0</td>\n",
              "      <td>0.0</td>\n",
              "      <td>0.0</td>\n",
              "      <td>0.0</td>\n",
              "      <td>0.0</td>\n",
              "      <td>0.0</td>\n",
              "      <td>0.0</td>\n",
              "      <td>0.0</td>\n",
              "      <td>0.0</td>\n",
              "      <td>0.0</td>\n",
              "      <td>0.0</td>\n",
              "      <td>0.0</td>\n",
              "      <td>0.0</td>\n",
              "      <td>0.0</td>\n",
              "      <td>0.0</td>\n",
              "      <td>0.0</td>\n",
              "      <td>0.0</td>\n",
              "      <td>0.0</td>\n",
              "      <td>1.0</td>\n",
              "      <td>0.0</td>\n",
              "      <td>0.0</td>\n",
              "      <td>0.0</td>\n",
              "      <td>0.0</td>\n",
              "      <td>0.0</td>\n",
              "      <td>0.0</td>\n",
              "      <td>0.0</td>\n",
              "      <td>0.0</td>\n",
              "      <td>0.0</td>\n",
              "      <td>0.0</td>\n",
              "      <td>0.0</td>\n",
              "      <td>0.0</td>\n",
              "      <td>...</td>\n",
              "      <td>0.0</td>\n",
              "      <td>0.0</td>\n",
              "      <td>0.0</td>\n",
              "      <td>0.0</td>\n",
              "      <td>0.0</td>\n",
              "      <td>0.0</td>\n",
              "      <td>0.0</td>\n",
              "      <td>0.0</td>\n",
              "      <td>0.0</td>\n",
              "      <td>0.0</td>\n",
              "      <td>0.0</td>\n",
              "      <td>0.0</td>\n",
              "      <td>0.0</td>\n",
              "      <td>0.0</td>\n",
              "      <td>0.0</td>\n",
              "      <td>0.0</td>\n",
              "      <td>0.0</td>\n",
              "      <td>0.0</td>\n",
              "      <td>0.0</td>\n",
              "      <td>0.0</td>\n",
              "      <td>0.0</td>\n",
              "      <td>0.0</td>\n",
              "      <td>0.0</td>\n",
              "      <td>0.0</td>\n",
              "      <td>0.0</td>\n",
              "      <td>0.0</td>\n",
              "      <td>0.0</td>\n",
              "      <td>0.0</td>\n",
              "      <td>0.0</td>\n",
              "      <td>0.0</td>\n",
              "      <td>0.0</td>\n",
              "      <td>0.0</td>\n",
              "      <td>0.0</td>\n",
              "      <td>0.0</td>\n",
              "      <td>0.0</td>\n",
              "      <td>0.0</td>\n",
              "      <td>0.0</td>\n",
              "      <td>0.0</td>\n",
              "      <td>0.0</td>\n",
              "      <td>1.0</td>\n",
              "    </tr>\n",
              "    <tr>\n",
              "      <th>3</th>\n",
              "      <td>1.351524</td>\n",
              "      <td>-0.028423</td>\n",
              "      <td>-0.042892</td>\n",
              "      <td>0.0</td>\n",
              "      <td>0.0</td>\n",
              "      <td>0.0</td>\n",
              "      <td>0.0</td>\n",
              "      <td>0.0</td>\n",
              "      <td>0.0</td>\n",
              "      <td>0.0</td>\n",
              "      <td>0.0</td>\n",
              "      <td>0.0</td>\n",
              "      <td>0.0</td>\n",
              "      <td>0.0</td>\n",
              "      <td>0.0</td>\n",
              "      <td>0.0</td>\n",
              "      <td>0.0</td>\n",
              "      <td>0.0</td>\n",
              "      <td>0.0</td>\n",
              "      <td>0.0</td>\n",
              "      <td>0.0</td>\n",
              "      <td>0.0</td>\n",
              "      <td>0.0</td>\n",
              "      <td>0.0</td>\n",
              "      <td>0.0</td>\n",
              "      <td>0.0</td>\n",
              "      <td>0.0</td>\n",
              "      <td>0.0</td>\n",
              "      <td>0.0</td>\n",
              "      <td>0.0</td>\n",
              "      <td>0.0</td>\n",
              "      <td>0.0</td>\n",
              "      <td>0.0</td>\n",
              "      <td>0.0</td>\n",
              "      <td>0.0</td>\n",
              "      <td>0.0</td>\n",
              "      <td>0.0</td>\n",
              "      <td>0.0</td>\n",
              "      <td>0.0</td>\n",
              "      <td>0.0</td>\n",
              "      <td>...</td>\n",
              "      <td>0.0</td>\n",
              "      <td>0.0</td>\n",
              "      <td>0.0</td>\n",
              "      <td>0.0</td>\n",
              "      <td>0.0</td>\n",
              "      <td>0.0</td>\n",
              "      <td>0.0</td>\n",
              "      <td>0.0</td>\n",
              "      <td>0.0</td>\n",
              "      <td>0.0</td>\n",
              "      <td>0.0</td>\n",
              "      <td>0.0</td>\n",
              "      <td>0.0</td>\n",
              "      <td>0.0</td>\n",
              "      <td>0.0</td>\n",
              "      <td>0.0</td>\n",
              "      <td>0.0</td>\n",
              "      <td>0.0</td>\n",
              "      <td>0.0</td>\n",
              "      <td>0.0</td>\n",
              "      <td>0.0</td>\n",
              "      <td>0.0</td>\n",
              "      <td>0.0</td>\n",
              "      <td>0.0</td>\n",
              "      <td>0.0</td>\n",
              "      <td>0.0</td>\n",
              "      <td>0.0</td>\n",
              "      <td>0.0</td>\n",
              "      <td>0.0</td>\n",
              "      <td>0.0</td>\n",
              "      <td>0.0</td>\n",
              "      <td>0.0</td>\n",
              "      <td>0.0</td>\n",
              "      <td>0.0</td>\n",
              "      <td>0.0</td>\n",
              "      <td>0.0</td>\n",
              "      <td>0.0</td>\n",
              "      <td>0.0</td>\n",
              "      <td>0.0</td>\n",
              "      <td>1.0</td>\n",
              "    </tr>\n",
              "    <tr>\n",
              "      <th>4</th>\n",
              "      <td>-0.716119</td>\n",
              "      <td>1.049262</td>\n",
              "      <td>0.911143</td>\n",
              "      <td>0.0</td>\n",
              "      <td>0.0</td>\n",
              "      <td>0.0</td>\n",
              "      <td>0.0</td>\n",
              "      <td>0.0</td>\n",
              "      <td>0.0</td>\n",
              "      <td>0.0</td>\n",
              "      <td>0.0</td>\n",
              "      <td>0.0</td>\n",
              "      <td>0.0</td>\n",
              "      <td>0.0</td>\n",
              "      <td>0.0</td>\n",
              "      <td>0.0</td>\n",
              "      <td>0.0</td>\n",
              "      <td>0.0</td>\n",
              "      <td>0.0</td>\n",
              "      <td>0.0</td>\n",
              "      <td>0.0</td>\n",
              "      <td>0.0</td>\n",
              "      <td>0.0</td>\n",
              "      <td>0.0</td>\n",
              "      <td>0.0</td>\n",
              "      <td>0.0</td>\n",
              "      <td>0.0</td>\n",
              "      <td>0.0</td>\n",
              "      <td>0.0</td>\n",
              "      <td>0.0</td>\n",
              "      <td>0.0</td>\n",
              "      <td>0.0</td>\n",
              "      <td>0.0</td>\n",
              "      <td>0.0</td>\n",
              "      <td>0.0</td>\n",
              "      <td>0.0</td>\n",
              "      <td>0.0</td>\n",
              "      <td>0.0</td>\n",
              "      <td>0.0</td>\n",
              "      <td>0.0</td>\n",
              "      <td>...</td>\n",
              "      <td>0.0</td>\n",
              "      <td>0.0</td>\n",
              "      <td>0.0</td>\n",
              "      <td>0.0</td>\n",
              "      <td>0.0</td>\n",
              "      <td>0.0</td>\n",
              "      <td>0.0</td>\n",
              "      <td>0.0</td>\n",
              "      <td>0.0</td>\n",
              "      <td>0.0</td>\n",
              "      <td>0.0</td>\n",
              "      <td>0.0</td>\n",
              "      <td>0.0</td>\n",
              "      <td>0.0</td>\n",
              "      <td>0.0</td>\n",
              "      <td>0.0</td>\n",
              "      <td>0.0</td>\n",
              "      <td>0.0</td>\n",
              "      <td>0.0</td>\n",
              "      <td>0.0</td>\n",
              "      <td>0.0</td>\n",
              "      <td>0.0</td>\n",
              "      <td>0.0</td>\n",
              "      <td>0.0</td>\n",
              "      <td>0.0</td>\n",
              "      <td>0.0</td>\n",
              "      <td>0.0</td>\n",
              "      <td>0.0</td>\n",
              "      <td>0.0</td>\n",
              "      <td>0.0</td>\n",
              "      <td>0.0</td>\n",
              "      <td>0.0</td>\n",
              "      <td>0.0</td>\n",
              "      <td>0.0</td>\n",
              "      <td>0.0</td>\n",
              "      <td>0.0</td>\n",
              "      <td>0.0</td>\n",
              "      <td>0.0</td>\n",
              "      <td>1.0</td>\n",
              "      <td>0.0</td>\n",
              "    </tr>\n",
              "  </tbody>\n",
              "</table>\n",
              "<p>5 rows × 301 columns</p>\n",
              "</div>"
            ],
            "text/plain": [
              "        Age    Height    Weight  ...  NOC_ZIM  Sex_F  Sex_M\n",
              "0 -0.238971  0.510420  0.752137  ...      0.0    0.0    1.0\n",
              "1 -0.398020 -0.567265 -0.837921  ...      0.0    0.0    1.0\n",
              "2 -0.238971 -0.028423 -0.042892  ...      0.0    0.0    1.0\n",
              "3  1.351524 -0.028423 -0.042892  ...      0.0    0.0    1.0\n",
              "4 -0.716119  1.049262  0.911143  ...      0.0    1.0    0.0\n",
              "\n",
              "[5 rows x 301 columns]"
            ]
          },
          "metadata": {
            "tags": []
          },
          "execution_count": 9
        }
      ]
    },
    {
      "cell_type": "markdown",
      "metadata": {
        "id": "hxQuzJElVTZx"
      },
      "source": [
        "## Exercici 2\n",
        "Continua amb el conjunt de dades de tema esportiu que t'agradi i aplica l'anàlisi de components principals."
      ]
    },
    {
      "cell_type": "markdown",
      "metadata": {
        "id": "ZYvyBgn-gRUq"
      },
      "source": [
        "Apliquem PCA a les variables numèriques: Age, Height, Weight"
      ]
    },
    {
      "cell_type": "code",
      "metadata": {
        "id": "P67teOsnX2d7",
        "colab": {
          "base_uri": "https://localhost:8080/",
          "height": 266
        },
        "outputId": "4d050f2c-84b7-4fb2-f36d-70380482882a"
      },
      "source": [
        "# Principal Component analysis aplicat a les variables numèriques\n",
        "\n",
        "N_COMPONENTS = 3\n",
        "\n",
        "pca = PCA(n_components=N_COMPONENTS)\n",
        "X_pca = pca.fit_transform(X[:,0:3])\n",
        "\n",
        "pca_columns = [f'PCA_{x}' for x in range(1, N_COMPONENTS+1)]\n",
        "\n",
        "df_pca = pd.DataFrame(X_pca, columns=pca_columns)\n",
        "df_pca['Medal'] = df_raw[targ_column].to_numpy() # Afegim columna del target\n",
        "df_pca.sample(7)"
      ],
      "execution_count": 10,
      "outputs": [
        {
          "output_type": "execute_result",
          "data": {
            "text/html": [
              "<div>\n",
              "<style scoped>\n",
              "    .dataframe tbody tr th:only-of-type {\n",
              "        vertical-align: middle;\n",
              "    }\n",
              "\n",
              "    .dataframe tbody tr th {\n",
              "        vertical-align: top;\n",
              "    }\n",
              "\n",
              "    .dataframe thead th {\n",
              "        text-align: right;\n",
              "    }\n",
              "</style>\n",
              "<table border=\"1\" class=\"dataframe\">\n",
              "  <thead>\n",
              "    <tr style=\"text-align: right;\">\n",
              "      <th></th>\n",
              "      <th>PCA_1</th>\n",
              "      <th>PCA_2</th>\n",
              "      <th>PCA_3</th>\n",
              "      <th>Medal</th>\n",
              "    </tr>\n",
              "  </thead>\n",
              "  <tbody>\n",
              "    <tr>\n",
              "      <th>1190</th>\n",
              "      <td>-1.906185</td>\n",
              "      <td>0.022423</td>\n",
              "      <td>0.013483</td>\n",
              "      <td>None</td>\n",
              "    </tr>\n",
              "    <tr>\n",
              "      <th>234157</th>\n",
              "      <td>-0.729693</td>\n",
              "      <td>0.070950</td>\n",
              "      <td>-0.231387</td>\n",
              "      <td>Bronze</td>\n",
              "    </tr>\n",
              "    <tr>\n",
              "      <th>7819</th>\n",
              "      <td>-1.042919</td>\n",
              "      <td>-0.119942</td>\n",
              "      <td>1.049245</td>\n",
              "      <td>None</td>\n",
              "    </tr>\n",
              "    <tr>\n",
              "      <th>248029</th>\n",
              "      <td>0.912551</td>\n",
              "      <td>4.271512</td>\n",
              "      <td>-0.226469</td>\n",
              "      <td>None</td>\n",
              "    </tr>\n",
              "    <tr>\n",
              "      <th>201533</th>\n",
              "      <td>-0.101798</td>\n",
              "      <td>-0.222239</td>\n",
              "      <td>0.001287</td>\n",
              "      <td>None</td>\n",
              "    </tr>\n",
              "    <tr>\n",
              "      <th>83506</th>\n",
              "      <td>1.515734</td>\n",
              "      <td>-0.250366</td>\n",
              "      <td>0.208228</td>\n",
              "      <td>None</td>\n",
              "    </tr>\n",
              "    <tr>\n",
              "      <th>123205</th>\n",
              "      <td>-0.912559</td>\n",
              "      <td>-0.042955</td>\n",
              "      <td>-0.072206</td>\n",
              "      <td>None</td>\n",
              "    </tr>\n",
              "  </tbody>\n",
              "</table>\n",
              "</div>"
            ],
            "text/plain": [
              "           PCA_1     PCA_2     PCA_3   Medal\n",
              "1190   -1.906185  0.022423  0.013483    None\n",
              "234157 -0.729693  0.070950 -0.231387  Bronze\n",
              "7819   -1.042919 -0.119942  1.049245    None\n",
              "248029  0.912551  4.271512 -0.226469    None\n",
              "201533 -0.101798 -0.222239  0.001287    None\n",
              "83506   1.515734 -0.250366  0.208228    None\n",
              "123205 -0.912559 -0.042955 -0.072206    None"
            ]
          },
          "metadata": {
            "tags": []
          },
          "execution_count": 10
        }
      ]
    },
    {
      "cell_type": "code",
      "metadata": {
        "colab": {
          "base_uri": "https://localhost:8080/",
          "height": 656
        },
        "id": "oxwaqkCBPr6l",
        "outputId": "13a3994d-7eea-4c0a-b3f1-eedd6372156e"
      },
      "source": [
        "# PCA pair-plot\n",
        "foo = sns.pairplot(df_pca, hue='Medal', corner=True, height=3)\n",
        "foo.fig.suptitle('PCA pair-plot');"
      ],
      "execution_count": 11,
      "outputs": [
        {
          "output_type": "display_data",
          "data": {
            "image/png": "[encoded data removed]",
            "text/plain": [
              "<Figure size 718.375x648 with 9 Axes>"
            ]
          },
          "metadata": {
            "tags": [],
            "needs_background": "light"
          }
        }
      ]
    },
    {
      "cell_type": "code",
      "metadata": {
        "colab": {
          "base_uri": "https://localhost:8080/"
        },
        "id": "4Jz0H_nb4c1Z",
        "outputId": "36bfb076-3aa4-406f-bb62-83aa7d9e74b8"
      },
      "source": [
        "# Explained variance ratio\n",
        "print(f'Explained variance ratio:')\n",
        "print(*[f'PCA{i+1}: {100*x:.3f}%' for i, x in enumerate(pca.explained_variance_ratio_)], sep=', ')"
      ],
      "execution_count": 12,
      "outputs": [
        {
          "output_type": "stream",
          "text": [
            "Explained variance ratio:\n",
            "PCA1: 60.958%, PCA2: 31.993%, PCA3: 7.048%\n"
          ],
          "name": "stdout"
        }
      ]
    },
    {
      "cell_type": "code",
      "metadata": {
        "colab": {
          "base_uri": "https://localhost:8080/",
          "height": 295
        },
        "id": "LlpXMTKFeEZl",
        "outputId": "dea4c664-5ad4-4d8e-8355-b74ca99bcf3f"
      },
      "source": [
        "# Cumulative explained variance ratio\n",
        "x = range(0,4)\n",
        "y = np.pad(np.cumsum(pca.explained_variance_ratio_), (1,0))*100\n",
        "plt.plot(x,y)\n",
        "plt.xlim(0,3);\n",
        "plt.ylim(0,100);\n",
        "plt.xlabel('Number of components');\n",
        "plt.title('Cumulative explained variance ratio (%)');\n",
        "plt.ylabel('Explained variance (%)');"
      ],
      "execution_count": 13,
      "outputs": [
        {
          "output_type": "display_data",
          "data": {
            "image/png": "[encoded data removed]",
            "text/plain": [
              "<Figure size 432x288 with 1 Axes>"
            ]
          },
          "metadata": {
            "tags": [],
            "needs_background": "light"
          }
        }
      ]
    },
    {
      "cell_type": "markdown",
      "metadata": {
        "id": "hHPis_9O6ieB"
      },
      "source": [
        "Veiem que PCA no ens permet reduir el nombre d'atributs, ja que calen al menys dues de les variables numèriquesper poder explicar al menys 93% de la variabilitat. Reduir de 3 a 2 variables no val la pena. En el gràfic pair-plot també podem veure que efectivament cap de les 3 components aporta cap millora en la separació d'atletes segons el tipus de medalla. Cosa que té sentit ja que no estem tenint en compte cap de les altres variables categòriques (esport, país, gènere) que previsiblement han de tenir molta influència. "
      ]
    },
    {
      "cell_type": "markdown",
      "metadata": {
        "id": "vaEfBgVqVTVT"
      },
      "source": [
        "## Exercici 3\n",
        "Continua amb el conjunt de dades de tema esportiu que t'agradi i normalitza les dades tenint en compte els outliers."
      ]
    },
    {
      "cell_type": "markdown",
      "metadata": {
        "id": "DuRHrTqDfplt"
      },
      "source": [
        "Analitzem els outliers que contenen els atributs Age, Height i Weight."
      ]
    },
    {
      "cell_type": "code",
      "metadata": {
        "colab": {
          "base_uri": "https://localhost:8080/",
          "height": 336
        },
        "id": "K_3ZvEHbf1xl",
        "outputId": "d0f1b828-d08f-4623-e41f-b19824ea5999"
      },
      "source": [
        "plt.figure(figsize=(20,5))\n",
        "\n",
        "sns.boxplot(data=df_raw[['Age','Height','Weight']], orient='h');\n",
        "plt.title('Raw data');"
      ],
      "execution_count": 14,
      "outputs": [
        {
          "output_type": "display_data",
          "data": {
            "image/png": "[encoded data removed]",
            "text/plain": [
              "<Figure size 1440x360 with 1 Axes>"
            ]
          },
          "metadata": {
            "tags": [],
            "needs_background": "light"
          }
        }
      ]
    },
    {
      "cell_type": "code",
      "metadata": {
        "colab": {
          "base_uri": "https://localhost:8080/",
          "height": 297
        },
        "id": "uIVgDqiMgpnY",
        "outputId": "67a0a48d-3534-4ef5-884b-64bc27dfd4a5"
      },
      "source": [
        "foo = df_raw[['Age','Height','Weight']]\n",
        "foo.describe()"
      ],
      "execution_count": 15,
      "outputs": [
        {
          "output_type": "execute_result",
          "data": {
            "text/html": [
              "<div>\n",
              "<style scoped>\n",
              "    .dataframe tbody tr th:only-of-type {\n",
              "        vertical-align: middle;\n",
              "    }\n",
              "\n",
              "    .dataframe tbody tr th {\n",
              "        vertical-align: top;\n",
              "    }\n",
              "\n",
              "    .dataframe thead th {\n",
              "        text-align: right;\n",
              "    }\n",
              "</style>\n",
              "<table border=\"1\" class=\"dataframe\">\n",
              "  <thead>\n",
              "    <tr style=\"text-align: right;\">\n",
              "      <th></th>\n",
              "      <th>Age</th>\n",
              "      <th>Height</th>\n",
              "      <th>Weight</th>\n",
              "    </tr>\n",
              "  </thead>\n",
              "  <tbody>\n",
              "    <tr>\n",
              "      <th>count</th>\n",
              "      <td>261642.000000</td>\n",
              "      <td>210945.000000</td>\n",
              "      <td>208241.000000</td>\n",
              "    </tr>\n",
              "    <tr>\n",
              "      <th>mean</th>\n",
              "      <td>25.556898</td>\n",
              "      <td>175.338970</td>\n",
              "      <td>70.702393</td>\n",
              "    </tr>\n",
              "    <tr>\n",
              "      <th>std</th>\n",
              "      <td>6.393561</td>\n",
              "      <td>10.518462</td>\n",
              "      <td>14.348020</td>\n",
              "    </tr>\n",
              "    <tr>\n",
              "      <th>min</th>\n",
              "      <td>10.000000</td>\n",
              "      <td>127.000000</td>\n",
              "      <td>25.000000</td>\n",
              "    </tr>\n",
              "    <tr>\n",
              "      <th>25%</th>\n",
              "      <td>21.000000</td>\n",
              "      <td>168.000000</td>\n",
              "      <td>60.000000</td>\n",
              "    </tr>\n",
              "    <tr>\n",
              "      <th>50%</th>\n",
              "      <td>24.000000</td>\n",
              "      <td>175.000000</td>\n",
              "      <td>70.000000</td>\n",
              "    </tr>\n",
              "    <tr>\n",
              "      <th>75%</th>\n",
              "      <td>28.000000</td>\n",
              "      <td>183.000000</td>\n",
              "      <td>79.000000</td>\n",
              "    </tr>\n",
              "    <tr>\n",
              "      <th>max</th>\n",
              "      <td>97.000000</td>\n",
              "      <td>226.000000</td>\n",
              "      <td>214.000000</td>\n",
              "    </tr>\n",
              "  </tbody>\n",
              "</table>\n",
              "</div>"
            ],
            "text/plain": [
              "                 Age         Height         Weight\n",
              "count  261642.000000  210945.000000  208241.000000\n",
              "mean       25.556898     175.338970      70.702393\n",
              "std         6.393561      10.518462      14.348020\n",
              "min        10.000000     127.000000      25.000000\n",
              "25%        21.000000     168.000000      60.000000\n",
              "50%        24.000000     175.000000      70.000000\n",
              "75%        28.000000     183.000000      79.000000\n",
              "max        97.000000     226.000000     214.000000"
            ]
          },
          "metadata": {
            "tags": []
          },
          "execution_count": 15
        }
      ]
    },
    {
      "cell_type": "code",
      "metadata": {
        "colab": {
          "base_uri": "https://localhost:8080/"
        },
        "id": "BlCwtp1KgAea",
        "outputId": "d790f93d-d9a1-495f-9fe4-42dacf724da7"
      },
      "source": [
        "Q1 = foo.quantile(0.25)\n",
        "Q3 = foo.quantile(0.75)\n",
        "IQR = Q3 - Q1\n",
        "\n",
        "outliers_bool = (foo < (Q1 - 1.5 * IQR)) |(foo > (Q3 + 1.5 * IQR))\n",
        "outliers_abs = outliers_bool.sum(axis=0)\n",
        "outliers_perc = outliers_abs * 100 / foo.dropna().count(axis=0)\n",
        "\n",
        "print(f'Number of outliers:\\n{outliers_abs}\\n')\n",
        "print(f'Percentage of outliers:\\n{outliers_perc}')\n"
      ],
      "execution_count": 16,
      "outputs": [
        {
          "output_type": "stream",
          "text": [
            "Number of outliers:\n",
            "Age       10317\n",
            "Height     1338\n",
            "Weight     3237\n",
            "dtype: int64\n",
            "\n",
            "Percentage of outliers:\n",
            "Age       5.004244\n",
            "Height    0.648995\n",
            "Weight    1.570102\n",
            "dtype: float64\n"
          ],
          "name": "stdout"
        }
      ]
    },
    {
      "cell_type": "markdown",
      "metadata": {
        "id": "8s1E4f8wJg4x"
      },
      "source": [
        "Si volem tenir en compte els outliers a l'hora d'escalar les dades, en el moment d'estandaritzar les variables numèriques, existeixen bàsicament tres estratègies:\n",
        "- eliminar els outliers (**no s'aconsella**, sobretot en aquest cas on sembla que NO corresponen a errors de mesura o de recol·lecció de dades, sinó a dades REALS encara que estadísticament molt poc freqüents, e.g. atletes de 90 anys o de 10 anys). Una possible estratègia seria per exemple descartar totes les dades anteriors a 1950, ja que les olimpiades anteriors a la segona guerra mundial eren molt diferents a les olimpiades actuals en quant a esports i tipologia de participants (edats, etc).\n",
        "\n",
        "- utilitzar un 'scaler' (transformació lineal) com StandardScaler pèro més robust en front dels outliers. Es tracta de **RobustScaler()** que utilitza la mediana i el IQR (enlloc de la mitjana i desviació estàndar).\n",
        "\n",
        "- utilitzar un 'transformer' (transformació no lineal), com per exemple **PowerTransformer()** que permet mapejar les dades a una distribució normal."
      ]
    },
    {
      "cell_type": "markdown",
      "metadata": {
        "id": "SWmb2oh9ipVT"
      },
      "source": [
        "### RobustScaler()"
      ]
    },
    {
      "cell_type": "code",
      "metadata": {
        "colab": {
          "base_uri": "https://localhost:8080/",
          "height": 204
        },
        "id": "QCHV9sBUi4ja",
        "outputId": "2509f6ec-9e47-4c37-bc1d-b6261204609d"
      },
      "source": [
        "# Pipeline per atributs numèrics\n",
        "num_pipe_robust = Pipeline([('imputer', SimpleImputer(strategy='median')),\n",
        "                     ('scaler', RobustScaler(with_centering=True, with_scaling=True))])\n",
        "\n",
        "# Pipeline per atributs categòrics\n",
        "cat_pipe = Pipeline([('ohe', OneHotEncoder(sparse=False))])\n",
        "\n",
        "\n",
        "# Combinem els dos pipelines\n",
        "preprocessor = ColumnTransformer(transformers=[('num_transf', num_pipe_robust, num_columns),\n",
        "                                               ('cat_transf', cat_pipe, cat_columns)\n",
        "                                               ])\n",
        "\n",
        "X = preprocessor.fit_transform(df_raw);\n",
        "\n",
        "df_X_robust = pd.DataFrame(X, columns=columns)\n",
        "df_X_robust[['Age','Height','Weight']].head()"
      ],
      "execution_count": 17,
      "outputs": [
        {
          "output_type": "execute_result",
          "data": {
            "text/html": [
              "<div>\n",
              "<style scoped>\n",
              "    .dataframe tbody tr th:only-of-type {\n",
              "        vertical-align: middle;\n",
              "    }\n",
              "\n",
              "    .dataframe tbody tr th {\n",
              "        vertical-align: top;\n",
              "    }\n",
              "\n",
              "    .dataframe thead th {\n",
              "        text-align: right;\n",
              "    }\n",
              "</style>\n",
              "<table border=\"1\" class=\"dataframe\">\n",
              "  <thead>\n",
              "    <tr style=\"text-align: right;\">\n",
              "      <th></th>\n",
              "      <th>Age</th>\n",
              "      <th>Height</th>\n",
              "      <th>Weight</th>\n",
              "    </tr>\n",
              "  </thead>\n",
              "  <tbody>\n",
              "    <tr>\n",
              "      <th>0</th>\n",
              "      <td>0.000000</td>\n",
              "      <td>0.5</td>\n",
              "      <td>0.833333</td>\n",
              "    </tr>\n",
              "    <tr>\n",
              "      <th>1</th>\n",
              "      <td>-0.166667</td>\n",
              "      <td>-0.5</td>\n",
              "      <td>-0.833333</td>\n",
              "    </tr>\n",
              "    <tr>\n",
              "      <th>2</th>\n",
              "      <td>0.000000</td>\n",
              "      <td>0.0</td>\n",
              "      <td>0.000000</td>\n",
              "    </tr>\n",
              "    <tr>\n",
              "      <th>3</th>\n",
              "      <td>1.666667</td>\n",
              "      <td>0.0</td>\n",
              "      <td>0.000000</td>\n",
              "    </tr>\n",
              "    <tr>\n",
              "      <th>4</th>\n",
              "      <td>-0.500000</td>\n",
              "      <td>1.0</td>\n",
              "      <td>1.000000</td>\n",
              "    </tr>\n",
              "  </tbody>\n",
              "</table>\n",
              "</div>"
            ],
            "text/plain": [
              "        Age  Height    Weight\n",
              "0  0.000000     0.5  0.833333\n",
              "1 -0.166667    -0.5 -0.833333\n",
              "2  0.000000     0.0  0.000000\n",
              "3  1.666667     0.0  0.000000\n",
              "4 -0.500000     1.0  1.000000"
            ]
          },
          "metadata": {
            "tags": []
          },
          "execution_count": 17
        }
      ]
    },
    {
      "cell_type": "markdown",
      "metadata": {
        "id": "HqgONmccitmh"
      },
      "source": [
        "### PowerTransformer()"
      ]
    },
    {
      "cell_type": "code",
      "metadata": {
        "colab": {
          "base_uri": "https://localhost:8080/",
          "height": 204
        },
        "id": "KivG8cxhjEWf",
        "outputId": "3e2812c7-8578-4097-9b19-800205bd09fc"
      },
      "source": [
        "# Pipeline per atributs numèrics\n",
        "num_pipe_robust = Pipeline([('imputer', SimpleImputer(strategy='median')),\n",
        "                     ('power_transf', PowerTransformer(method='box-cox'))])\n",
        "\n",
        "# Pipeline per atributs categòrics\n",
        "cat_pipe = Pipeline([('ohe', OneHotEncoder(sparse=False))])\n",
        "\n",
        "\n",
        "# Combinem els dos pipelines\n",
        "preprocessor = ColumnTransformer(transformers=[('num_transf', num_pipe_robust, num_columns),\n",
        "                                               ('cat_transf', cat_pipe, cat_columns)\n",
        "                                               ])\n",
        "\n",
        "X = preprocessor.fit_transform(df_raw);\n",
        "df_X_trans = pd.DataFrame(X, columns=columns)\n",
        "df_X_trans[['Age','Height','Weight']].head()"
      ],
      "execution_count": 18,
      "outputs": [
        {
          "output_type": "execute_result",
          "data": {
            "text/html": [
              "<div>\n",
              "<style scoped>\n",
              "    .dataframe tbody tr th:only-of-type {\n",
              "        vertical-align: middle;\n",
              "    }\n",
              "\n",
              "    .dataframe tbody tr th {\n",
              "        vertical-align: top;\n",
              "    }\n",
              "\n",
              "    .dataframe thead th {\n",
              "        text-align: right;\n",
              "    }\n",
              "</style>\n",
              "<table border=\"1\" class=\"dataframe\">\n",
              "  <thead>\n",
              "    <tr style=\"text-align: right;\">\n",
              "      <th></th>\n",
              "      <th>Age</th>\n",
              "      <th>Height</th>\n",
              "      <th>Weight</th>\n",
              "    </tr>\n",
              "  </thead>\n",
              "  <tbody>\n",
              "    <tr>\n",
              "      <th>0</th>\n",
              "      <td>-0.085008</td>\n",
              "      <td>0.512614</td>\n",
              "      <td>0.804284</td>\n",
              "    </tr>\n",
              "    <tr>\n",
              "      <th>1</th>\n",
              "      <td>-0.286125</td>\n",
              "      <td>-0.565144</td>\n",
              "      <td>-0.837925</td>\n",
              "    </tr>\n",
              "    <tr>\n",
              "      <th>2</th>\n",
              "      <td>-0.085008</td>\n",
              "      <td>-0.025382</td>\n",
              "      <td>0.038288</td>\n",
              "    </tr>\n",
              "    <tr>\n",
              "      <th>3</th>\n",
              "      <td>1.366166</td>\n",
              "      <td>-0.025382</td>\n",
              "      <td>0.038288</td>\n",
              "    </tr>\n",
              "    <tr>\n",
              "      <th>4</th>\n",
              "      <td>-0.735292</td>\n",
              "      <td>1.048899</td>\n",
              "      <td>0.946647</td>\n",
              "    </tr>\n",
              "  </tbody>\n",
              "</table>\n",
              "</div>"
            ],
            "text/plain": [
              "        Age    Height    Weight\n",
              "0 -0.085008  0.512614  0.804284\n",
              "1 -0.286125 -0.565144 -0.837925\n",
              "2 -0.085008 -0.025382  0.038288\n",
              "3  1.366166 -0.025382  0.038288\n",
              "4 -0.735292  1.048899  0.946647"
            ]
          },
          "metadata": {
            "tags": []
          },
          "execution_count": 18
        }
      ]
    },
    {
      "cell_type": "markdown",
      "metadata": {
        "id": "QQKiX6injTXb"
      },
      "source": [
        "Podem comparar gràficament les dades originals i les dades preprocessades utilitzant StandardScaler, RobustScaler i PowerTransform"
      ]
    },
    {
      "cell_type": "code",
      "metadata": {
        "colab": {
          "base_uri": "https://localhost:8080/",
          "height": 934
        },
        "id": "fpvX4YtkMLRn",
        "outputId": "eafe1977-aca5-4744-8667-6631a2927c69"
      },
      "source": [
        "plt.figure(figsize=(20,16))\n",
        "\n",
        "plt.subplot(4,1,1)\n",
        "sns.boxplot(data=df_raw[['Age','Height','Weight']], orient='h');\n",
        "plt.title('Raw data')\n",
        "\n",
        "plt.subplot(4,1,2)\n",
        "sns.boxplot(data=df_X[['Age','Height','Weight']], orient='h');\n",
        "plt.xlim(-7.5, 12.5);\n",
        "plt.title('Data after using StandardScaler')\n",
        "plt.grid(axis='x')\n",
        "\n",
        "plt.subplot(4,1,3)\n",
        "sns.boxplot(data=df_X_robust[['Age','Height','Weight']], orient='h');\n",
        "plt.xlim(-7.5, 12.5);\n",
        "plt.title('Data after using RobustScaler')\n",
        "plt.grid(axis='x')\n",
        "\n",
        "plt.subplot(4,1,4)\n",
        "sns.boxplot(data=df_X_trans[['Age','Height','Weight']], orient='h');\n",
        "plt.xlim(-7.5, 12.5);\n",
        "plt.title('Data after using PowerTransformer')\n",
        "plt.grid(axis='x')\n"
      ],
      "execution_count": 19,
      "outputs": [
        {
          "output_type": "display_data",
          "data": {
            "image/png": "[encoded data removed]",
            "text/plain": [
              "<Figure size 1440x1152 with 4 Axes>"
            ]
          },
          "metadata": {
            "tags": [],
            "needs_background": "light"
          }
        }
      ]
    },
    {
      "cell_type": "markdown",
      "metadata": {
        "id": "TRlgZBUBuk9Q"
      },
      "source": [
        "Veiem que no hi ha gaire diferència en el resultat obtingut amb RobustScaler i StandardScaler. En canvi amb la transformació no-lineal PowerTransform si que  s'obté una distribució més simètrica i amb menys variabilitat que les altres."
      ]
    },
    {
      "cell_type": "markdown",
      "metadata": {
        "id": "kYN0eZiIE4bi"
      },
      "source": [
        "\n",
        "\n",
        "---\n",
        "\n"
      ]
    },
    {
      "cell_type": "code",
      "metadata": {
        "colab": {
          "base_uri": "https://localhost:8080/",
          "height": 34
        },
        "id": "c71nOGOBhS0i",
        "outputId": "ed541293-d316-43b3-afe1-b47a008b1641"
      },
      "source": [
        "# Resum dels packages utilitzats\n",
        "!pip install session_info &> /dev/null\n",
        "import session_info\n",
        "session_info.show()"
      ],
      "execution_count": 20,
      "outputs": [
        {
          "output_type": "execute_result",
          "data": {
            "text/html": [
              "<details>\n",
              "<summary>Click to view session information</summary>\n",
              "<pre>\n",
              "-----\n",
              "matplotlib          3.2.2\n",
              "numpy               1.19.5\n",
              "pandas              1.1.5\n",
              "seaborn             0.11.1\n",
              "session_info        1.0.0\n",
              "sklearn             0.22.2.post1\n",
              "-----\n",
              "</pre>\n",
              "<details>\n",
              "<summary>Click to view modules imported as dependencies</summary>\n",
              "<pre>\n",
              "PIL                         7.1.2\n",
              "astor                       0.8.1\n",
              "bottleneck                  1.3.2\n",
              "cffi                        1.14.5\n",
              "cycler                      0.10.0\n",
              "cython_runtime              NA\n",
              "dateutil                    2.8.1\n",
              "debugpy                     1.0.0\n",
              "decorator                   4.4.2\n",
              "google                      NA\n",
              "ipykernel                   4.10.1\n",
              "ipython_genutils            0.2.0\n",
              "ipywidgets                  7.6.3\n",
              "joblib                      1.0.1\n",
              "kiwisolver                  1.3.1\n",
              "mpl_toolkits                NA\n",
              "numexpr                     2.7.3\n",
              "pexpect                     4.8.0\n",
              "pickleshare                 0.7.5\n",
              "pkg_resources               NA\n",
              "portpicker                  NA\n",
              "prompt_toolkit              1.0.18\n",
              "psutil                      5.4.8\n",
              "ptyprocess                  0.7.0\n",
              "pydev_ipython               NA\n",
              "pydevconsole                NA\n",
              "pydevd                      2.0.0\n",
              "pydevd_concurrency_analyser NA\n",
              "pydevd_file_utils           NA\n",
              "pydevd_plugins              NA\n",
              "pydevd_tracing              NA\n",
              "pygments                    2.6.1\n",
              "pyparsing                   2.4.7\n",
              "pytz                        2018.9\n",
              "scipy                       1.4.1\n",
              "simplegeneric               NA\n",
              "sitecustomize               NA\n",
              "six                         1.15.0\n",
              "sphinxcontrib               NA\n",
              "statsmodels                 0.10.2\n",
              "storemagic                  NA\n",
              "tornado                     5.1.1\n",
              "traitlets                   5.0.5\n",
              "typing_extensions           NA\n",
              "wcwidth                     0.2.5\n",
              "zmq                         22.0.3\n",
              "</pre>\n",
              "</details> <!-- seems like this ends pre, so might as well be explicit -->\n",
              "<pre>\n",
              "-----\n",
              "IPython             5.5.0\n",
              "jupyter_client      5.3.5\n",
              "jupyter_core        4.7.1\n",
              "notebook            5.3.1\n",
              "-----\n",
              "Python 3.7.10 (default, May  3 2021, 02:48:31) [GCC 7.5.0]\n",
              "Linux-5.4.109+-x86_64-with-Ubuntu-18.04-bionic\n",
              "-----\n",
              "Session information updated at 2021-05-30 11:26\n",
              "</pre>\n",
              "</details>"
            ],
            "text/plain": [
              "<IPython.core.display.HTML object>"
            ]
          },
          "metadata": {
            "tags": []
          },
          "execution_count": 20
        }
      ]
    }
  ]
}